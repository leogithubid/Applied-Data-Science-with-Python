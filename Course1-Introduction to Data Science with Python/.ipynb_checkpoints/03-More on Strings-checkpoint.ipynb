{
 "cells": [
  {
   "cell_type": "code",
   "execution_count": 14,
   "id": "3e868811",
   "metadata": {},
   "outputs": [
    {
     "ename": "NameError",
     "evalue": "name 'customer' is not defined",
     "output_type": "error",
     "traceback": [
      "\u001b[0;31m---------------------------------------------------------------------------\u001b[0m",
      "\u001b[0;31mNameError\u001b[0m                                 Traceback (most recent call last)",
      "\u001b[0;32m/var/folders/mq/hny0jxys0_q9sz_f6f_cbrv80000gp/T/ipykernel_18187/161380778.py\u001b[0m in \u001b[0;36m<module>\u001b[0;34m\u001b[0m\n\u001b[1;32m      7\u001b[0m \u001b[0minvoice_statement\u001b[0m \u001b[0;34m=\u001b[0m \u001b[0;34m'{} bought {} by {} on {}'\u001b[0m\u001b[0;34m\u001b[0m\u001b[0;34m\u001b[0m\u001b[0m\n\u001b[1;32m      8\u001b[0m \u001b[0;34m\u001b[0m\u001b[0m\n\u001b[0;32m----> 9\u001b[0;31m \u001b[0mprint\u001b[0m\u001b[0;34m(\u001b[0m\u001b[0minvoice\u001b[0m\u001b[0;34m[\u001b[0m\u001b[0mcustomer\u001b[0m\u001b[0;34m]\u001b[0m\u001b[0;34m)\u001b[0m\u001b[0;34m\u001b[0m\u001b[0;34m\u001b[0m\u001b[0m\n\u001b[0m\u001b[1;32m     10\u001b[0m \u001b[0mprint\u001b[0m\u001b[0;34m(\u001b[0m\u001b[0minvoice_statement\u001b[0m\u001b[0;34m.\u001b[0m\u001b[0mformat\u001b[0m\u001b[0;34m(\u001b[0m\u001b[0;34m)\u001b[0m\u001b[0;34m)\u001b[0m\u001b[0;34m\u001b[0m\u001b[0;34m\u001b[0m\u001b[0m\n",
      "\u001b[0;31mNameError\u001b[0m: name 'customer' is not defined"
     ]
    }
   ],
   "source": [
    "#create a dictionary for an item that I bought \n",
    "invoice = { 'book':'Python for Data Analysis', \n",
    "            'author':'Wes Mckinney',\n",
    "            'customer':'Liyon',\n",
    "            'date' : '01/01/2022'}\n",
    "\n",
    "invoice_statement = '{} bought {} by {} on {}'\n",
    "\n",
    "#just keep this error as a reminder to self - I forgot to add quotes before 'customer'\n",
    "#and I figured it out myself - yaay\n",
    "print(invoice[customer])\n",
    "print(invoice_statement.format())"
   ]
  },
  {
   "cell_type": "code",
   "execution_count": 15,
   "id": "de596597",
   "metadata": {},
   "outputs": [
    {
     "name": "stdout",
     "output_type": "stream",
     "text": [
      "Liyon bought Python for Data Analysis by Wes Mckinney on 01/01/2022\n"
     ]
    }
   ],
   "source": [
    "print(invoice_statement.format(invoice['customer'],invoice['book'],invoice['author'],\n",
    "                               invoice['date']))"
   ]
  },
  {
   "cell_type": "code",
   "execution_count": null,
   "id": "6e9430c3",
   "metadata": {},
   "outputs": [],
   "source": []
  }
 ],
 "metadata": {
  "kernelspec": {
   "display_name": "Python 3 (ipykernel)",
   "language": "python",
   "name": "python3"
  },
  "language_info": {
   "codemirror_mode": {
    "name": "ipython",
    "version": 3
   },
   "file_extension": ".py",
   "mimetype": "text/x-python",
   "name": "python",
   "nbconvert_exporter": "python",
   "pygments_lexer": "ipython3",
   "version": "3.9.7"
  }
 },
 "nbformat": 4,
 "nbformat_minor": 5
}
