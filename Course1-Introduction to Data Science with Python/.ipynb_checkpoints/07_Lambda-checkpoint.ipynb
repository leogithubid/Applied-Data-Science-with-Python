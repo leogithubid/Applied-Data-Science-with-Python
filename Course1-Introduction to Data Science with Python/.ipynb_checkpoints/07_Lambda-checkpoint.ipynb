{
 "cells": [
  {
   "cell_type": "code",
   "execution_count": 2,
   "id": "6651831f",
   "metadata": {},
   "outputs": [
    {
     "name": "stdout",
     "output_type": "stream",
     "text": [
      "True\n",
      "True\n",
      "True\n",
      "True\n"
     ]
    },
    {
     "data": {
      "text/plain": [
       "True"
      ]
     },
     "execution_count": 2,
     "metadata": {},
     "output_type": "execute_result"
    }
   ],
   "source": [
    "people = ['Dr. Christopher Brooks', 'Dr. Kevyn Collins-Thompson', 'Dr. VG Vinod Vydiswaran', \n",
    "         'Dr. Daniel Romero']\n",
    "\n",
    "def split_title_and_name(person):\n",
    "    return person.split()[0] + ' ' + person.split()[-1]\n",
    "\n",
    "#option 1\n",
    "for person in people:\n",
    "    print(split_title_and_name(person) == (lambda x: x.split()[0] + ' ' + x.split()[-1])\n",
    "          (person))\n",
    "\n",
    "#option 2\n",
    "list(map(split_title_and_name, people)) == list(map(lambda person: person.split()[0] + ' ' + \n",
    "                                                    person.split()[-1], people))"
   ]
  },
  {
   "cell_type": "code",
   "execution_count": 3,
   "id": "14ba48a9",
   "metadata": {},
   "outputs": [],
   "source": [
    "dummy_function = lambda a,b,c:a+b\n"
   ]
  },
  {
   "cell_type": "code",
   "execution_count": 4,
   "id": "fecd61c7",
   "metadata": {},
   "outputs": [
    {
     "data": {
      "text/plain": [
       "3"
      ]
     },
     "execution_count": 4,
     "metadata": {},
     "output_type": "execute_result"
    }
   ],
   "source": [
    "dummy_function(1,2,3)"
   ]
  },
  {
   "cell_type": "code",
   "execution_count": 5,
   "id": "1964e665",
   "metadata": {},
   "outputs": [
    {
     "data": {
      "text/plain": [
       "32"
      ]
     },
     "execution_count": 5,
     "metadata": {},
     "output_type": "execute_result"
    }
   ],
   "source": [
    "dummy_function(10,22,37)"
   ]
  },
  {
   "cell_type": "markdown",
   "id": "cfe68cd4",
   "metadata": {},
   "source": [
    "let's pause this course for a moment - don't you think its going a bit too fast\n",
    "without any good examples? that example was so confusing, don't know why they created it\n",
    "A lambda function is a small anonymous function.\n",
    "A lambda function can take any number of arguments, but can only have one expression."
   ]
  },
  {
   "cell_type": "markdown",
   "id": "33520263",
   "metadata": {},
   "source": [
    "# Lambda\n",
    "\n",
    "## variable_name = lambda_keyword argument_or_list_of_inputs : expression_or_return_result"
   ]
  },
  {
   "cell_type": "code",
   "execution_count": 1,
   "id": "dde8b5b0",
   "metadata": {},
   "outputs": [
    {
     "data": {
      "text/plain": [
       "30"
      ]
     },
     "execution_count": 1,
     "metadata": {},
     "output_type": "execute_result"
    }
   ],
   "source": [
    "#first let's define a normal function\n",
    "def multiply(a,b):\n",
    "    return a*b\n",
    "\n",
    "multiply(5,6)"
   ]
  },
  {
   "cell_type": "code",
   "execution_count": 4,
   "id": "d2f93e3d",
   "metadata": {},
   "outputs": [
    {
     "data": {
      "text/plain": [
       "30"
      ]
     },
     "execution_count": 4,
     "metadata": {},
     "output_type": "execute_result"
    }
   ],
   "source": [
    "#now let's use lambda\n",
    "multiply_using_lambda = lambda a,b : a*b\n",
    "\n",
    "multiply_using_lambda(5,6)"
   ]
  },
  {
   "cell_type": "code",
   "execution_count": 5,
   "id": "624da08d",
   "metadata": {},
   "outputs": [
    {
     "data": {
      "text/plain": [
       "<function __main__.<lambda>(a, b)>"
      ]
     },
     "execution_count": 5,
     "metadata": {},
     "output_type": "execute_result"
    }
   ],
   "source": [
    "multiply_using_lambda"
   ]
  },
  {
   "cell_type": "code",
   "execution_count": 6,
   "id": "47328db4",
   "metadata": {},
   "outputs": [
    {
     "data": {
      "text/plain": [
       "25"
      ]
     },
     "execution_count": 6,
     "metadata": {},
     "output_type": "execute_result"
    }
   ],
   "source": [
    "#define a lambda function that returns square of a value\n",
    "square = lambda a : a*a\n",
    "\n",
    "square(5)"
   ]
  },
  {
   "cell_type": "code",
   "execution_count": 12,
   "id": "2a1e6437",
   "metadata": {},
   "outputs": [
    {
     "data": {
      "text/plain": [
       "['apple', 2, 3]"
      ]
     },
     "execution_count": 12,
     "metadata": {},
     "output_type": "execute_result"
    }
   ],
   "source": [
    "#get 3 values and return a list\n",
    "\n",
    "list_lambda = lambda a,b,c : [a,b,c]\n",
    "    \n",
    "list_lambda('apple',2,3)"
   ]
  },
  {
   "cell_type": "code",
   "execution_count": 13,
   "id": "1d568429",
   "metadata": {},
   "outputs": [
    {
     "data": {
      "text/plain": [
       "'h'"
      ]
     },
     "execution_count": 13,
     "metadata": {},
     "output_type": "execute_result"
    }
   ],
   "source": [
    "#get a string and return the first character of a string\n",
    "\n",
    "return_first_character = lambda input_string : input_string[0]\n",
    "\n",
    "return_first_character('hello')"
   ]
  },
  {
   "cell_type": "code",
   "execution_count": 15,
   "id": "d753b13f",
   "metadata": {},
   "outputs": [
    {
     "data": {
      "text/plain": [
       "12"
      ]
     },
     "execution_count": 15,
     "metadata": {},
     "output_type": "execute_result"
    }
   ],
   "source": [
    "#return length\n",
    "\n",
    "return_length = lambda input_string : len(input_string)\n",
    "\n",
    "return_length('Good Morning')"
   ]
  },
  {
   "cell_type": "markdown",
   "id": "e075c0af",
   "metadata": {},
   "source": [
    "# lambda using lists"
   ]
  },
  {
   "cell_type": "code",
   "execution_count": 17,
   "id": "f7b8219b",
   "metadata": {},
   "outputs": [
    {
     "data": {
      "text/plain": [
       "[1, 4, 9, 16, 25]"
      ]
     },
     "execution_count": 17,
     "metadata": {},
     "output_type": "execute_result"
    }
   ],
   "source": [
    "#create a function to get a list and square the items in it \n",
    "\n",
    "number_list = [1,2,3,4,5]\n",
    "\n",
    "def square_list(input_list):\n",
    "    squared_list = []\n",
    "    for item in input_list:\n",
    "        square = item * item\n",
    "        squared_list.append(square)\n",
    "    return squared_list\n",
    "\n",
    "square_list(number_list)\n",
    "        "
   ]
  },
  {
   "cell_type": "code",
   "execution_count": 19,
   "id": "34531fc1",
   "metadata": {},
   "outputs": [
    {
     "data": {
      "text/plain": [
       "[1, 4, 9, 16, 25]"
      ]
     },
     "execution_count": 19,
     "metadata": {},
     "output_type": "execute_result"
    }
   ],
   "source": [
    "#use map\n",
    "#map syntax:\n",
    "#map(function,list)\n",
    "\n",
    "def square_numbers(item):\n",
    "    return item * item\n",
    "\n",
    "map(square_numbers,number_list)\n",
    "\n",
    "#convert map object to a list\n",
    "list(map(square_numbers,number_list))"
   ]
  },
  {
   "cell_type": "code",
   "execution_count": 20,
   "id": "fa66aa9c",
   "metadata": {},
   "outputs": [
    {
     "data": {
      "text/plain": [
       "[1, 4, 9, 16, 25]"
      ]
     },
     "execution_count": 20,
     "metadata": {},
     "output_type": "execute_result"
    }
   ],
   "source": [
    "#use lambda\n",
    "\n",
    "square_lambda = lambda item : item * item\n",
    "\n",
    "list(map(square_lambda,number_list))"
   ]
  },
  {
   "cell_type": "code",
   "execution_count": 21,
   "id": "f8c470b6",
   "metadata": {},
   "outputs": [
    {
     "data": {
      "text/plain": [
       "[1, 4, 9, 16, 25]"
      ]
     },
     "execution_count": 21,
     "metadata": {},
     "output_type": "execute_result"
    }
   ],
   "source": [
    "#making it compact ie, get rid of the function and put lambda inside map\n",
    "\n",
    "list(map(lambda item : item * item , number_list))"
   ]
  },
  {
   "cell_type": "code",
   "execution_count": 24,
   "id": "77e39dec",
   "metadata": {},
   "outputs": [
    {
     "data": {
      "text/plain": [
       "['TEA', 'COFFEE', 'BISCUITS']"
      ]
     },
     "execution_count": 24,
     "metadata": {},
     "output_type": "execute_result"
    }
   ],
   "source": [
    "#convert a list of words to upper case\n",
    "breakfast_menu = ['tea','coffee','biscuits']\n",
    "\n",
    "list(map(lambda element : element.upper(), breakfast_menu))"
   ]
  },
  {
   "cell_type": "code",
   "execution_count": 25,
   "id": "e537dbd0",
   "metadata": {},
   "outputs": [
    {
     "data": {
      "text/plain": [
       "['i had breakfast', 'i am having lunch', 'i will have dinner']"
      ]
     },
     "execution_count": 25,
     "metadata": {},
     "output_type": "execute_result"
    }
   ],
   "source": [
    "#converst list of sentences to lower case\n",
    "sentences = ['I had breakfast','I am having lunch','I will have dinner']\n",
    "\n",
    "list(map(lambda sentence : sentence.lower(),sentences))"
   ]
  },
  {
   "cell_type": "markdown",
   "id": "a0384997",
   "metadata": {},
   "source": [
    "# Lambda with conditions"
   ]
  },
  {
   "cell_type": "code",
   "execution_count": 26,
   "id": "f8fe0729",
   "metadata": {},
   "outputs": [
    {
     "data": {
      "text/plain": [
       "True"
      ]
     },
     "execution_count": 26,
     "metadata": {},
     "output_type": "execute_result"
    }
   ],
   "source": [
    "#a function that returns true if value is even, false if odd\n",
    "def odd_even(number):\n",
    "    if (number%2==0):\n",
    "        return True\n",
    "    else:\n",
    "        return False\n",
    "    \n",
    "odd_even(4)"
   ]
  },
  {
   "cell_type": "code",
   "execution_count": 27,
   "id": "2ffbbdc3",
   "metadata": {},
   "outputs": [
    {
     "data": {
      "text/plain": [
       "False"
      ]
     },
     "execution_count": 27,
     "metadata": {},
     "output_type": "execute_result"
    }
   ],
   "source": [
    "odd_even(5)"
   ]
  },
  {
   "cell_type": "code",
   "execution_count": 29,
   "id": "be2c7b7a",
   "metadata": {},
   "outputs": [
    {
     "data": {
      "text/plain": [
       "True"
      ]
     },
     "execution_count": 29,
     "metadata": {},
     "output_type": "execute_result"
    }
   ],
   "source": [
    "#use lambda\n",
    "odd_even_lambda = lambda number : True if number%2 == 0 else False\n",
    "\n",
    "odd_even_lambda(6)"
   ]
  },
  {
   "cell_type": "code",
   "execution_count": 30,
   "id": "311b7b26",
   "metadata": {},
   "outputs": [
    {
     "data": {
      "text/plain": [
       "False"
      ]
     },
     "execution_count": 30,
     "metadata": {},
     "output_type": "execute_result"
    }
   ],
   "source": [
    "odd_even_lambda(7)"
   ]
  },
  {
   "cell_type": "code",
   "execution_count": 31,
   "id": "24d30655",
   "metadata": {},
   "outputs": [
    {
     "data": {
      "text/plain": [
       "[12, 34, 56, 78, 90]"
      ]
     },
     "execution_count": 31,
     "metadata": {},
     "output_type": "execute_result"
    }
   ],
   "source": [
    "#normal function - filter out even numbers from a list\n",
    "numbers = [12,23,34,45,56,67,78,89,90]\n",
    "\n",
    "def filter_even(numbers_list):\n",
    "    even_numbers = []\n",
    "    for number in numbers_list:\n",
    "        if(number%2==0):\n",
    "            even_numbers.append(number)\n",
    "    return even_numbers\n",
    "\n",
    "filter_even(numbers)"
   ]
  },
  {
   "cell_type": "code",
   "execution_count": 32,
   "id": "3e0c5932",
   "metadata": {},
   "outputs": [],
   "source": [
    "#using filter function\n",
    "#syntax - filter(function_name,list of objects) -> returns the items for which function \n",
    "#returned true\n",
    "#filter can iterate through the list of objects like map\n",
    "#see the example using lambda for this\n",
    "\n",
    "#just recreate our old function\n",
    "def odd_even(number):\n",
    "    if (number%2==0):\n",
    "        return True\n",
    "    else:\n",
    "        return False"
   ]
  },
  {
   "cell_type": "code",
   "execution_count": 34,
   "id": "375cb5a5",
   "metadata": {},
   "outputs": [
    {
     "data": {
      "text/plain": [
       "<filter at 0x7f87cb705d90>"
      ]
     },
     "execution_count": 34,
     "metadata": {},
     "output_type": "execute_result"
    }
   ],
   "source": [
    "filter(odd_even,numbers)"
   ]
  },
  {
   "cell_type": "code",
   "execution_count": 35,
   "id": "8f45ef53",
   "metadata": {},
   "outputs": [
    {
     "data": {
      "text/plain": [
       "[12, 34, 56, 78, 90]"
      ]
     },
     "execution_count": 35,
     "metadata": {},
     "output_type": "execute_result"
    }
   ],
   "source": [
    "#convert the filter object to list ie, cast it\n",
    "list(filter(odd_even,numbers))"
   ]
  },
  {
   "cell_type": "code",
   "execution_count": 36,
   "id": "2ed6105a",
   "metadata": {},
   "outputs": [],
   "source": [
    "#how about using our old lambda\n",
    "#use lambda\n",
    "odd_even_lambda = lambda number : True if number%2 == 0 else False"
   ]
  },
  {
   "cell_type": "code",
   "execution_count": 37,
   "id": "d5415a3a",
   "metadata": {},
   "outputs": [
    {
     "data": {
      "text/plain": [
       "[12, 34, 56, 78, 90]"
      ]
     },
     "execution_count": 37,
     "metadata": {},
     "output_type": "execute_result"
    }
   ],
   "source": [
    "list(filter(odd_even_lambda,numbers))"
   ]
  },
  {
   "cell_type": "code",
   "execution_count": 38,
   "id": "5ebd3deb",
   "metadata": {},
   "outputs": [
    {
     "data": {
      "text/plain": [
       "[12, 34, 56, 78, 90]"
      ]
     },
     "execution_count": 38,
     "metadata": {},
     "output_type": "execute_result"
    }
   ],
   "source": [
    "list(filter(lambda number : True if number%2 == 0 else False,numbers))"
   ]
  },
  {
   "cell_type": "code",
   "execution_count": 41,
   "id": "59ef4243",
   "metadata": {},
   "outputs": [
    {
     "data": {
      "text/plain": [
       "['Shazin', 'Shiyon', 'Shilna']"
      ]
     },
     "execution_count": 41,
     "metadata": {},
     "output_type": "execute_result"
    }
   ],
   "source": [
    "#filter out the names starting with 'S'\n",
    "names = ['Vivaan','Aarav','Krishna','Shazin','Indhu','Shiyon','Liyon','Niyon','Shilna','Kiran']\n",
    "\n",
    "list(filter(lambda name : True if name[0]=='S' else False,names))"
   ]
  },
  {
   "cell_type": "code",
   "execution_count": 47,
   "id": "438e7b48",
   "metadata": {},
   "outputs": [
    {
     "data": {
      "text/plain": [
       "['Kiran']"
      ]
     },
     "execution_count": 47,
     "metadata": {},
     "output_type": "execute_result"
    }
   ],
   "source": [
    "#names starting with K but with length 5\n",
    "\n",
    "\n",
    "list(filter(lambda name : True if (name[0]=='K') and (len(name)==5) else False,names))"
   ]
  },
  {
   "cell_type": "code",
   "execution_count": 48,
   "id": "a83834a2",
   "metadata": {},
   "outputs": [
    {
     "data": {
      "text/plain": [
       "[1200, 230, 3400, 450, 5600, 670, 7800, 890, 9000]"
      ]
     },
     "execution_count": 48,
     "metadata": {},
     "output_type": "execute_result"
    }
   ],
   "source": [
    "#mulitply odd by 10 and even by 100\n",
    "list(map(lambda number: number*100 if number%2==0 else number*10,numbers))"
   ]
  },
  {
   "cell_type": "markdown",
   "id": "365c1d06",
   "metadata": {},
   "source": [
    "# Lambda and sorting"
   ]
  },
  {
   "cell_type": "code",
   "execution_count": 49,
   "id": "890fede1",
   "metadata": {},
   "outputs": [
    {
     "data": {
      "text/plain": [
       "[('Apple', 10), ('Banana', 5), ('Carrot', 2), ('Dry Fruits', 20), ('Egg', 12)]"
      ]
     },
     "execution_count": 49,
     "metadata": {},
     "output_type": "execute_result"
    }
   ],
   "source": [
    "#a list of objects that contains products as tuples\n",
    "products = [('Carrot',2),('Apple',10),('Egg',12),('Banana',5),('Dry Fruits',20)]\n",
    "\n",
    "#sort it alphabetically\n",
    "products.sort()\n",
    "products"
   ]
  },
  {
   "cell_type": "code",
   "execution_count": 50,
   "id": "80a06213",
   "metadata": {},
   "outputs": [
    {
     "data": {
      "text/plain": [
       "[('Carrot', 2), ('Banana', 5), ('Apple', 10), ('Egg', 12), ('Dry Fruits', 20)]"
      ]
     },
     "execution_count": 50,
     "metadata": {},
     "output_type": "execute_result"
    }
   ],
   "source": [
    "#using lambda - sort by price\n",
    "products.sort(key = lambda item : item[1])\n",
    "\n",
    "products"
   ]
  },
  {
   "cell_type": "code",
   "execution_count": 55,
   "id": "c001eae8",
   "metadata": {},
   "outputs": [
    {
     "data": {
      "text/plain": [
       "[{'name': 'Charles', 'Age': 34, 'Income': 30000},\n",
       " {'name': 'Alex', 'Age': 25, 'Income': 50000},\n",
       " {'name': 'Emily', 'Age': 45, 'Income': 10000},\n",
       " {'name': 'Ben', 'Age': 23, 'Income': 40000},\n",
       " {'name': 'Dick', 'Age': 33, 'Income': 20000}]"
      ]
     },
     "execution_count": 55,
     "metadata": {},
     "output_type": "execute_result"
    }
   ],
   "source": [
    "# a list of dictionaries\n",
    "employees = [\n",
    "                {\"name\":\"Charles\",\"Age\": 34,\"Income\":30000},\n",
    "                {\"name\":\"Alex\",\"Age\":25 ,\"Income\":50000},\n",
    "                {\"name\":\"Emily\",\"Age\": 45,\"Income\":10000},\n",
    "                {\"name\":\"Ben\",\"Age\": 23,\"Income\":40000},\n",
    "                {\"name\":\"Dick\",\"Age\":33 ,\"Income\":20000},\n",
    "            ]\n",
    "employees"
   ]
  },
  {
   "cell_type": "code",
   "execution_count": 57,
   "id": "6556def2",
   "metadata": {},
   "outputs": [
    {
     "data": {
      "text/plain": [
       "[{'name': 'Alex', 'Age': 25, 'Income': 50000},\n",
       " {'name': 'Ben', 'Age': 23, 'Income': 40000},\n",
       " {'name': 'Charles', 'Age': 34, 'Income': 30000},\n",
       " {'name': 'Dick', 'Age': 33, 'Income': 20000},\n",
       " {'name': 'Emily', 'Age': 45, 'Income': 10000}]"
      ]
     },
     "execution_count": 57,
     "metadata": {},
     "output_type": "execute_result"
    }
   ],
   "source": [
    "#sort by name\n",
    "#employees.sort()-gives error\n",
    "\n",
    "employees.sort(key = lambda person : person[\"name\"])\n",
    "employees"
   ]
  },
  {
   "cell_type": "code",
   "execution_count": 59,
   "id": "8ca0c5df",
   "metadata": {},
   "outputs": [
    {
     "data": {
      "text/plain": [
       "[{'name': 'Emily', 'Age': 45, 'Income': 10000},\n",
       " {'name': 'Dick', 'Age': 33, 'Income': 20000},\n",
       " {'name': 'Charles', 'Age': 34, 'Income': 30000},\n",
       " {'name': 'Ben', 'Age': 23, 'Income': 40000},\n",
       " {'name': 'Alex', 'Age': 25, 'Income': 50000}]"
      ]
     },
     "execution_count": 59,
     "metadata": {},
     "output_type": "execute_result"
    }
   ],
   "source": [
    "#based on income\n",
    "employees.sort(key = lambda person : person[\"Income\"])\n",
    "employees"
   ]
  },
  {
   "cell_type": "code",
   "execution_count": null,
   "id": "6e57db7a",
   "metadata": {},
   "outputs": [],
   "source": []
  }
 ],
 "metadata": {
  "kernelspec": {
   "display_name": "Python 3 (ipykernel)",
   "language": "python",
   "name": "python3"
  },
  "language_info": {
   "codemirror_mode": {
    "name": "ipython",
    "version": 3
   },
   "file_extension": ".py",
   "mimetype": "text/x-python",
   "name": "python",
   "nbconvert_exporter": "python",
   "pygments_lexer": "ipython3",
   "version": "3.9.7"
  }
 },
 "nbformat": 4,
 "nbformat_minor": 5
}
