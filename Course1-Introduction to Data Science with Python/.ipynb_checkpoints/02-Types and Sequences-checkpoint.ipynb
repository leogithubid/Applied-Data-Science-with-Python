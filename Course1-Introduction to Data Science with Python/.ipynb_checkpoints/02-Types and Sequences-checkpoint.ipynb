{
 "cells": [
  {
   "cell_type": "code",
   "execution_count": 1,
   "id": "af786f7e",
   "metadata": {},
   "outputs": [
    {
     "data": {
      "text/plain": [
       "int"
      ]
     },
     "execution_count": 1,
     "metadata": {},
     "output_type": "execute_result"
    }
   ],
   "source": [
    "x = 1\n",
    "type(x)"
   ]
  },
  {
   "cell_type": "code",
   "execution_count": 2,
   "id": "1a73efd4",
   "metadata": {},
   "outputs": [
    {
     "data": {
      "text/plain": [
       "function"
      ]
     },
     "execution_count": 2,
     "metadata": {},
     "output_type": "execute_result"
    }
   ],
   "source": [
    "def add_num(x,y):\n",
    "    return x+y\n",
    "type(add_num)"
   ]
  },
  {
   "cell_type": "markdown",
   "id": "93c75f6b",
   "metadata": {},
   "source": [
    "# Sequences"
   ]
  },
  {
   "cell_type": "code",
   "execution_count": 3,
   "id": "f66ce849",
   "metadata": {},
   "outputs": [
    {
     "data": {
      "text/plain": [
       "tuple"
      ]
     },
     "execution_count": 3,
     "metadata": {},
     "output_type": "execute_result"
    }
   ],
   "source": [
    "#tuple - immutable, we can't change them after we create them\n",
    "x = (1,2,'3','b')\n",
    "type(x)"
   ]
  },
  {
   "cell_type": "code",
   "execution_count": 4,
   "id": "2b8624ed",
   "metadata": {},
   "outputs": [
    {
     "data": {
      "text/plain": [
       "list"
      ]
     },
     "execution_count": 4,
     "metadata": {},
     "output_type": "execute_result"
    }
   ],
   "source": [
    "#list - we can change them\n",
    "y = [1,2,3,'a','b']\n",
    "type(y)"
   ]
  },
  {
   "cell_type": "code",
   "execution_count": 5,
   "id": "8903b36f",
   "metadata": {},
   "outputs": [
    {
     "name": "stdout",
     "output_type": "stream",
     "text": [
      "[1, 2, 3, 'a', 'b', 5]\n"
     ]
    }
   ],
   "source": [
    "y.append(5)\n",
    "print(y)"
   ]
  },
  {
   "cell_type": "code",
   "execution_count": 6,
   "id": "b6aae804",
   "metadata": {},
   "outputs": [
    {
     "ename": "AttributeError",
     "evalue": "'tuple' object has no attribute 'append'",
     "output_type": "error",
     "traceback": [
      "\u001b[0;31m---------------------------------------------------------------------------\u001b[0m",
      "\u001b[0;31mAttributeError\u001b[0m                            Traceback (most recent call last)",
      "\u001b[0;32m/var/folders/mq/hny0jxys0_q9sz_f6f_cbrv80000gp/T/ipykernel_17822/2544596857.py\u001b[0m in \u001b[0;36m<module>\u001b[0;34m\u001b[0m\n\u001b[0;32m----> 1\u001b[0;31m \u001b[0mx\u001b[0m\u001b[0;34m.\u001b[0m\u001b[0mappend\u001b[0m\u001b[0;34m(\u001b[0m\u001b[0;36m5\u001b[0m\u001b[0;34m)\u001b[0m\u001b[0;34m\u001b[0m\u001b[0;34m\u001b[0m\u001b[0m\n\u001b[0m\u001b[1;32m      2\u001b[0m \u001b[0mprint\u001b[0m\u001b[0;34m(\u001b[0m\u001b[0mx\u001b[0m\u001b[0;34m)\u001b[0m\u001b[0;34m\u001b[0m\u001b[0;34m\u001b[0m\u001b[0m\n",
      "\u001b[0;31mAttributeError\u001b[0m: 'tuple' object has no attribute 'append'"
     ]
    }
   ],
   "source": [
    "#tuple - this will give error\n",
    "x.append(5)\n",
    "print(x)"
   ]
  },
  {
   "cell_type": "code",
   "execution_count": 7,
   "id": "ce8278ab",
   "metadata": {},
   "outputs": [
    {
     "name": "stdout",
     "output_type": "stream",
     "text": [
      "1\n",
      "2\n",
      "3\n",
      "a\n",
      "b\n",
      "5\n"
     ]
    }
   ],
   "source": [
    "#looping through the tuple or list\n",
    "#for loop\n",
    "for item in y:\n",
    "    print(item)"
   ]
  },
  {
   "cell_type": "code",
   "execution_count": 8,
   "id": "4349a532",
   "metadata": {},
   "outputs": [
    {
     "name": "stdout",
     "output_type": "stream",
     "text": [
      "1\n",
      "2\n",
      "3\n",
      "b\n"
     ]
    }
   ],
   "source": [
    "#while loop\n",
    "i = 0\n",
    "while ( i != len(x)):\n",
    "    print(x[i])\n",
    "    i = i + 1"
   ]
  },
  {
   "cell_type": "code",
   "execution_count": 27,
   "id": "a68c848d",
   "metadata": {},
   "outputs": [
    {
     "name": "stdout",
     "output_type": "stream",
     "text": [
      "{'Liyon': 123, 'Alan': 456, 'Ben': 567, 'Che': 999}\n",
      "123\n"
     ]
    }
   ],
   "source": [
    "#Dictionaries - Prof. Brooks other languages have similar constructs but they call these Maps\n",
    "phonebook = {'Liyon':123,'Alan':456,'Ben':567,'Che':999}\n",
    "print(phonebook)\n",
    "print(phonebook['Liyon'])"
   ]
  },
  {
   "cell_type": "code",
   "execution_count": 29,
   "id": "59d3d862",
   "metadata": {},
   "outputs": [
    {
     "name": "stdout",
     "output_type": "stream",
     "text": [
      "{'Liyon': 123, 'Alan': 456, 'Ben': 567, 'Che': 999, 'Diana': 234}\n"
     ]
    }
   ],
   "source": [
    "phonebook['Diana'] = 234\n",
    "print(phonebook)"
   ]
  },
  {
   "cell_type": "code",
   "execution_count": 30,
   "id": "c06ffcdf",
   "metadata": {},
   "outputs": [
    {
     "name": "stdout",
     "output_type": "stream",
     "text": [
      "123\n",
      "456\n",
      "567\n",
      "999\n",
      "234\n"
     ]
    }
   ],
   "source": [
    "for name in phonebook:\n",
    "    print(phonebook[name])"
   ]
  },
  {
   "cell_type": "code",
   "execution_count": 32,
   "id": "9d5b159d",
   "metadata": {},
   "outputs": [
    {
     "name": "stdout",
     "output_type": "stream",
     "text": [
      "123\n",
      "456\n",
      "567\n",
      "999\n",
      "234\n"
     ]
    }
   ],
   "source": [
    "for number in phonebook.values():\n",
    "    print(number)"
   ]
  },
  {
   "cell_type": "code",
   "execution_count": 33,
   "id": "438a7d30",
   "metadata": {},
   "outputs": [
    {
     "name": "stdout",
     "output_type": "stream",
     "text": [
      "Liyon\n",
      "123\n",
      "Alan\n",
      "456\n",
      "Ben\n",
      "567\n",
      "Che\n",
      "999\n",
      "Diana\n",
      "234\n"
     ]
    }
   ],
   "source": [
    "for name,number in phonebook.items():\n",
    "    print(name)\n",
    "    print(number)"
   ]
  },
  {
   "cell_type": "code",
   "execution_count": 35,
   "id": "025646e4",
   "metadata": {},
   "outputs": [
    {
     "name": "stdout",
     "output_type": "stream",
     "text": [
      "Leonard Cohen\n",
      "Leonard.Cohen@gmail.com\n",
      "1234567890\n"
     ]
    }
   ],
   "source": [
    "myprofile = ('Leonard Cohen','Leonard.Cohen@gmail.com','1234567890')\n",
    "name,email,phone = myprofile\n",
    "print(name)\n",
    "print(email)\n",
    "print(phone)"
   ]
  },
  {
   "cell_type": "code",
   "execution_count": 36,
   "id": "63692a85",
   "metadata": {},
   "outputs": [
    {
     "name": "stdout",
     "output_type": "stream",
     "text": [
      "Leonard Cohen\n",
      "Leonard.Cohen@gmail.com\n",
      "1234567890\n"
     ]
    }
   ],
   "source": [
    "mydetails = ['Leonard Cohen','Leonard.Cohen@gmail.com','1234567890']\n",
    "name,email,phone = myprofile\n",
    "print(name)\n",
    "print(email)\n",
    "print(phone)"
   ]
  },
  {
   "cell_type": "code",
   "execution_count": 39,
   "id": "552ca5e6",
   "metadata": {},
   "outputs": [
    {
     "name": "stdout",
     "output_type": "stream",
     "text": [
      "Leonard Cohen\n",
      "Leonard.Cohen@gmail.com\n",
      "1234567890\n"
     ]
    }
   ],
   "source": [
    "mydictionary = {'name':'Ben Kingsley','email':'Ben.Kingsley@gmail.com',\n",
    "                'number':'567890'}\n",
    "name,email,phone = myprofile\n",
    "print(name)\n",
    "print(email)\n",
    "print(phone)"
   ]
  },
  {
   "cell_type": "markdown",
   "id": "948bf45d",
   "metadata": {},
   "source": [
    "# String Operations"
   ]
  },
  {
   "cell_type": "code",
   "execution_count": 9,
   "id": "d37801c2",
   "metadata": {},
   "outputs": [
    {
     "data": {
      "text/plain": [
       "[1, 2, 3, 4]"
      ]
     },
     "execution_count": 9,
     "metadata": {},
     "output_type": "execute_result"
    }
   ],
   "source": [
    "[1,2]+[3,4]"
   ]
  },
  {
   "cell_type": "code",
   "execution_count": 10,
   "id": "1b94db2a",
   "metadata": {},
   "outputs": [
    {
     "data": {
      "text/plain": [
       "[2, 2, 2, 2]"
      ]
     },
     "execution_count": 10,
     "metadata": {},
     "output_type": "execute_result"
    }
   ],
   "source": [
    "4 * [2]"
   ]
  },
  {
   "cell_type": "code",
   "execution_count": 12,
   "id": "dfbbe1d8",
   "metadata": {},
   "outputs": [
    {
     "data": {
      "text/plain": [
       "True"
      ]
     },
     "execution_count": 12,
     "metadata": {},
     "output_type": "execute_result"
    }
   ],
   "source": [
    "5 in [4,5,'a','b']"
   ]
  },
  {
   "cell_type": "code",
   "execution_count": 13,
   "id": "24ca2693",
   "metadata": {},
   "outputs": [
    {
     "data": {
      "text/plain": [
       "False"
      ]
     },
     "execution_count": 13,
     "metadata": {},
     "output_type": "execute_result"
    }
   ],
   "source": [
    "6 in [4,5,'a','b']"
   ]
  },
  {
   "cell_type": "code",
   "execution_count": 16,
   "id": "6d6d90f4",
   "metadata": {},
   "outputs": [
    {
     "data": {
      "text/plain": [
       "'G'"
      ]
     },
     "execution_count": 16,
     "metadata": {},
     "output_type": "execute_result"
    }
   ],
   "source": [
    "demo = 'Good morning'\n",
    "demo[0]"
   ]
  },
  {
   "cell_type": "code",
   "execution_count": 18,
   "id": "ca979afd",
   "metadata": {},
   "outputs": [
    {
     "name": "stdout",
     "output_type": "stream",
     "text": [
      "Good\n",
      "Good\n",
      " morning\n",
      "n\n",
      "Good morn\n",
      "ing\n"
     ]
    }
   ],
   "source": [
    "print(demo[0:4])\n",
    "print(demo[:4])\n",
    "print(demo[4:])\n",
    "print(demo[-2])\n",
    "print(demo[:-3])\n",
    "print(demo[-3:])"
   ]
  },
  {
   "cell_type": "code",
   "execution_count": 21,
   "id": "09796d09",
   "metadata": {},
   "outputs": [
    {
     "name": "stdout",
     "output_type": "stream",
     "text": [
      "Liyon SV\n"
     ]
    }
   ],
   "source": [
    "firstname = \"Liyon\"\n",
    "lastname = \"SV\"\n",
    "fullname = firstname + ' '+ lastname\n",
    "print(fullname)"
   ]
  },
  {
   "cell_type": "code",
   "execution_count": 22,
   "id": "7edb5aec",
   "metadata": {},
   "outputs": [
    {
     "name": "stdout",
     "output_type": "stream",
     "text": [
      "Liyon\n",
      "SV\n"
     ]
    }
   ],
   "source": [
    "givenname = fullname.split(' ')[0]\n",
    "surname = fullname.split(' ')[1]\n",
    "print(givenname)\n",
    "print(surname)"
   ]
  },
  {
   "cell_type": "code",
   "execution_count": 23,
   "id": "d4fba312",
   "metadata": {},
   "outputs": [
    {
     "data": {
      "text/plain": [
       "False"
      ]
     },
     "execution_count": 23,
     "metadata": {},
     "output_type": "execute_result"
    }
   ],
   "source": [
    "'SV' in firstname"
   ]
  },
  {
   "cell_type": "code",
   "execution_count": 24,
   "id": "9294db1e",
   "metadata": {},
   "outputs": [
    {
     "data": {
      "text/plain": [
       "True"
      ]
     },
     "execution_count": 24,
     "metadata": {},
     "output_type": "execute_result"
    }
   ],
   "source": [
    "'SV' in lastname"
   ]
  },
  {
   "cell_type": "code",
   "execution_count": null,
   "id": "b5cb9c20",
   "metadata": {},
   "outputs": [],
   "source": []
  }
 ],
 "metadata": {
  "kernelspec": {
   "display_name": "Python 3 (ipykernel)",
   "language": "python",
   "name": "python3"
  },
  "language_info": {
   "codemirror_mode": {
    "name": "ipython",
    "version": 3
   },
   "file_extension": ".py",
   "mimetype": "text/x-python",
   "name": "python",
   "nbconvert_exporter": "python",
   "pygments_lexer": "ipython3",
   "version": "3.9.7"
  }
 },
 "nbformat": 4,
 "nbformat_minor": 5
}
