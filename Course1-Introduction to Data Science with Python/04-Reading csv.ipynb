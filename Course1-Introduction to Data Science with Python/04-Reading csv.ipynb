{
 "cells": [
  {
   "cell_type": "code",
   "execution_count": 2,
   "id": "90e89e82",
   "metadata": {},
   "outputs": [
    {
     "data": {
      "text/plain": [
       "[{'': '1',\n",
       "  'manufacturer': 'audi',\n",
       "  'model': 'a4',\n",
       "  'displ': '1.8',\n",
       "  'year': '1999',\n",
       "  'cyl': '4',\n",
       "  'trans': 'auto(l5)',\n",
       "  'drv': 'f',\n",
       "  'cty': '18',\n",
       "  'hwy': '29',\n",
       "  'fl': 'p',\n",
       "  'class': 'compact'},\n",
       " {'': '2',\n",
       "  'manufacturer': 'audi',\n",
       "  'model': 'a4',\n",
       "  'displ': '1.8',\n",
       "  'year': '1999',\n",
       "  'cyl': '4',\n",
       "  'trans': 'manual(m5)',\n",
       "  'drv': 'f',\n",
       "  'cty': '21',\n",
       "  'hwy': '29',\n",
       "  'fl': 'p',\n",
       "  'class': 'compact'},\n",
       " {'': '3',\n",
       "  'manufacturer': 'audi',\n",
       "  'model': 'a4',\n",
       "  'displ': '2',\n",
       "  'year': '2008',\n",
       "  'cyl': '4',\n",
       "  'trans': 'manual(m6)',\n",
       "  'drv': 'f',\n",
       "  'cty': '20',\n",
       "  'hwy': '31',\n",
       "  'fl': 'p',\n",
       "  'class': 'compact'}]"
      ]
     },
     "execution_count": 2,
     "metadata": {},
     "output_type": "execute_result"
    }
   ],
   "source": [
    "import csv\n",
    "\n",
    "%precision 2\n",
    "\n",
    "# I have copied a csv file called mpg.csv into the same folder as this file\n",
    "# to iterate through that file we use with open? \n",
    "# then what's list function doing here?\n",
    "# and csv.DictReader\n",
    "\n",
    "with open('mpg.csv') as csvfile:\n",
    "    mpg = list(csv.DictReader(csvfile))\n",
    " \n",
    "#this is reading first 3 elements\n",
    "mpg[:3]"
   ]
  },
  {
   "cell_type": "code",
   "execution_count": 3,
   "id": "c0c05d42",
   "metadata": {},
   "outputs": [
    {
     "data": {
      "text/plain": [
       "234"
      ]
     },
     "execution_count": 3,
     "metadata": {},
     "output_type": "execute_result"
    }
   ],
   "source": [
    "len(mpg) #this gives the number of records in the file"
   ]
  },
  {
   "cell_type": "code",
   "execution_count": 4,
   "id": "063d2aa2",
   "metadata": {},
   "outputs": [
    {
     "data": {
      "text/plain": [
       "dict_keys(['', 'manufacturer', 'model', 'displ', 'year', 'cyl', 'trans', 'drv', 'cty', 'hwy', 'fl', 'class'])"
      ]
     },
     "execution_count": 4,
     "metadata": {},
     "output_type": "execute_result"
    }
   ],
   "source": [
    "mpg[0].keys() #this will give the column names"
   ]
  },
  {
   "cell_type": "code",
   "execution_count": 5,
   "id": "e2593e94",
   "metadata": {},
   "outputs": [
    {
     "name": "stdout",
     "output_type": "stream",
     "text": [
      "3945.0\n",
      "16.858974358974358\n"
     ]
    }
   ],
   "source": [
    "#sum(for 'cty' in mpg) - if I write this I get syntax error\n",
    "#just sum cty values - so this d & c are they alias? \n",
    "print(sum(float(d['cty']) for d in mpg))\n",
    "#get the average\n",
    "print(sum(float(d['cty']) for d in mpg)/len(mpg))"
   ]
  },
  {
   "cell_type": "code",
   "execution_count": 6,
   "id": "be261d2a",
   "metadata": {},
   "outputs": [
    {
     "name": "stdout",
     "output_type": "stream",
     "text": [
      "5485.0\n",
      "23.44017094017094\n"
     ]
    }
   ],
   "source": [
    "print(sum(float(c['hwy']) for c in mpg))\n",
    "#get the average\n",
    "print(sum(float(c['hwy']) for c in mpg)/len(mpg))"
   ]
  },
  {
   "cell_type": "code",
   "execution_count": 7,
   "id": "b0913ed9",
   "metadata": {},
   "outputs": [
    {
     "name": "stdout",
     "output_type": "stream",
     "text": [
      "{'5', '8', '4', '6'}\n"
     ]
    }
   ],
   "source": [
    "#set of cylinders? - this section of the lecture is not clear and going too fast\n",
    "cylinders = set(e['cyl'] for e in mpg)\n",
    "print(cylinders)"
   ]
  },
  {
   "cell_type": "code",
   "execution_count": 24,
   "id": "6c12dccc",
   "metadata": {},
   "outputs": [
    {
     "data": {
      "text/plain": [
       "[('5', 20.50), ('8', 12.57), ('4', 21.01), ('6', 16.22)]"
      ]
     },
     "execution_count": 24,
     "metadata": {},
     "output_type": "execute_result"
    }
   ],
   "source": [
    "CityMpgByCylinder = []\n",
    "\n",
    "#loop through cylinders\n",
    "for c in cylinders:\n",
    "    sum_mpg = 0\n",
    "    cylinder_type_count = 0\n",
    "    #loop through mpg \n",
    "    for d in mpg:\n",
    "    #if the cylinder type matches the cylinder in the outer loop\n",
    "        if(d['cyl']==c):\n",
    "            #add up the mpg and cylinder type\n",
    "            sum_mpg = sum_mpg + float(d['cty'])\n",
    "            cylinder_type_count = cylinder_type_count + 1        \n",
    "#outside the loop of mpg now but inside the loop of cylinders\n",
    "#add these records to the matrix \n",
    "# ie, for each cylinder sum up the cty colum\n",
    "#its saying it can take only one argument but I am passing two - what's this error?\n",
    "#so first time I wrote it with only one pair of braces and that went to error\n",
    "    #CityMpgByCylinder.append(c,sum_mpg/cylinder_type_count)\n",
    "#then I changed to two pair of braces as shown in the video and it is fine\n",
    "    CityMpgByCylinder.append((c,sum_mpg/cylinder_type_count))\n",
    "        \n",
    "#there is some nonsense about lambda that I am skipping for now\n",
    "#this line sorts the output\n",
    "#CityMpgByCylinder.sort(key = lambda x : x[0])\n",
    "\n",
    "CityMpgByCylinder"
   ]
  },
  {
   "cell_type": "code",
   "execution_count": 26,
   "id": "eb0eef77",
   "metadata": {},
   "outputs": [
    {
     "name": "stdout",
     "output_type": "stream",
     "text": [
      "{'suv', 'compact', '2seater', 'midsize', 'minivan', 'subcompact', 'pickup'}\n"
     ]
    }
   ],
   "source": [
    "#let's do a similar calculation for highway by class\n",
    "#then create a dictionary of vehicle class\n",
    "vehicles = set(v['class'] for v in mpg)\n",
    "print(vehicles)\n"
   ]
  },
  {
   "cell_type": "code",
   "execution_count": 30,
   "id": "608e2fd2",
   "metadata": {},
   "outputs": [
    {
     "data": {
      "text/plain": [
       "[('suv', 18.13),\n",
       " ('compact', 28.30),\n",
       " ('2seater', 24.80),\n",
       " ('midsize', 27.29),\n",
       " ('minivan', 22.36),\n",
       " ('subcompact', 28.14),\n",
       " ('pickup', 16.88)]"
      ]
     },
     "execution_count": 30,
     "metadata": {},
     "output_type": "execute_result"
    }
   ],
   "source": [
    "Highway_Mpg_By_Class = []\n",
    "\n",
    "#now loop through the classes\n",
    "for v in vehicles:\n",
    "    sum_mpg = 0\n",
    "    count_vehicles = 0\n",
    "    #now loop through mpg\n",
    "    for item in mpg:\n",
    "        #if the vehicle class matches\n",
    "        if(item['class']==v):\n",
    "            sum_mpg = sum_mpg + float(item['hwy'])\n",
    "            count_vehicles = count_vehicles + 1\n",
    "    #append the records\n",
    "    Highway_Mpg_By_Class.append((v,sum_mpg/count_vehicles))\n",
    "    \n",
    "Highway_Mpg_By_Class\n",
    "\n",
    "#moral of the story - the video that they are showing doesn't name the variables properly"
   ]
  },
  {
   "cell_type": "code",
   "execution_count": null,
   "id": "347adb0d",
   "metadata": {},
   "outputs": [],
   "source": []
  }
 ],
 "metadata": {
  "kernelspec": {
   "display_name": "Python 3 (ipykernel)",
   "language": "python",
   "name": "python3"
  },
  "language_info": {
   "codemirror_mode": {
    "name": "ipython",
    "version": 3
   },
   "file_extension": ".py",
   "mimetype": "text/x-python",
   "name": "python",
   "nbconvert_exporter": "python",
   "pygments_lexer": "ipython3",
   "version": "3.9.7"
  }
 },
 "nbformat": 4,
 "nbformat_minor": 5
}
