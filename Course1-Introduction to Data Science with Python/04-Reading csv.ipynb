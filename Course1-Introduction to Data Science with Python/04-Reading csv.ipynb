{
 "cells": [
  {
   "cell_type": "code",
   "execution_count": 4,
   "id": "90e89e82",
   "metadata": {},
   "outputs": [
    {
     "data": {
      "text/plain": [
       "[{'': '1',\n",
       "  'manufacturer': 'audi',\n",
       "  'model': 'a4',\n",
       "  'displ': '1.8',\n",
       "  'year': '1999',\n",
       "  'cyl': '4',\n",
       "  'trans': 'auto(l5)',\n",
       "  'drv': 'f',\n",
       "  'cty': '18',\n",
       "  'hwy': '29',\n",
       "  'fl': 'p',\n",
       "  'class': 'compact'},\n",
       " {'': '2',\n",
       "  'manufacturer': 'audi',\n",
       "  'model': 'a4',\n",
       "  'displ': '1.8',\n",
       "  'year': '1999',\n",
       "  'cyl': '4',\n",
       "  'trans': 'manual(m5)',\n",
       "  'drv': 'f',\n",
       "  'cty': '21',\n",
       "  'hwy': '29',\n",
       "  'fl': 'p',\n",
       "  'class': 'compact'},\n",
       " {'': '3',\n",
       "  'manufacturer': 'audi',\n",
       "  'model': 'a4',\n",
       "  'displ': '2',\n",
       "  'year': '2008',\n",
       "  'cyl': '4',\n",
       "  'trans': 'manual(m6)',\n",
       "  'drv': 'f',\n",
       "  'cty': '20',\n",
       "  'hwy': '31',\n",
       "  'fl': 'p',\n",
       "  'class': 'compact'}]"
      ]
     },
     "execution_count": 4,
     "metadata": {},
     "output_type": "execute_result"
    }
   ],
   "source": [
    "import csv\n",
    "\n",
    "%precision 2\n",
    "\n",
    "# I have copied a csv file called mpg.csv into the same folder as this file\n",
    "# to iterate through that file we use with open? \n",
    "# then what's list function doing here?\n",
    "# and csv.DictReader\n",
    "\n",
    "with open('mpg.csv') as csvfile:\n",
    "    mpg = list(csv.DictReader(csvfile))\n",
    " \n",
    "#this is reading first 3 elements\n",
    "mpg[:3]"
   ]
  },
  {
   "cell_type": "code",
   "execution_count": 8,
   "id": "c0c05d42",
   "metadata": {},
   "outputs": [
    {
     "data": {
      "text/plain": [
       "234"
      ]
     },
     "execution_count": 8,
     "metadata": {},
     "output_type": "execute_result"
    }
   ],
   "source": [
    "len(mpg) #this gives the number of records in the file"
   ]
  },
  {
   "cell_type": "code",
   "execution_count": 7,
   "id": "063d2aa2",
   "metadata": {},
   "outputs": [
    {
     "data": {
      "text/plain": [
       "dict_keys(['', 'manufacturer', 'model', 'displ', 'year', 'cyl', 'trans', 'drv', 'cty', 'hwy', 'fl', 'class'])"
      ]
     },
     "execution_count": 7,
     "metadata": {},
     "output_type": "execute_result"
    }
   ],
   "source": [
    "mpg[0].keys() #this will give the column names"
   ]
  },
  {
   "cell_type": "code",
   "execution_count": 20,
   "id": "e2593e94",
   "metadata": {},
   "outputs": [
    {
     "name": "stdout",
     "output_type": "stream",
     "text": [
      "3945.0\n",
      "16.858974358974358\n"
     ]
    }
   ],
   "source": [
    "#sum(for 'cty' in mpg) - if I write this I get syntax error\n",
    "#just sum cty values - so this d & c are they alias? \n",
    "print(sum(float(d['cty']) for d in mpg))\n",
    "#get the average\n",
    "print(sum(float(d['cty']) for d in mpg)/len(mpg))"
   ]
  },
  {
   "cell_type": "code",
   "execution_count": 23,
   "id": "be261d2a",
   "metadata": {},
   "outputs": [
    {
     "name": "stdout",
     "output_type": "stream",
     "text": [
      "5485.0\n",
      "23.44017094017094\n"
     ]
    }
   ],
   "source": [
    "print(sum(float(c['hwy']) for c in mpg))\n",
    "#get the average\n",
    "print(sum(float(c['hwy']) for c in mpg)/len(mpg))"
   ]
  },
  {
   "cell_type": "code",
   "execution_count": null,
   "id": "b0913ed9",
   "metadata": {},
   "outputs": [],
   "source": []
  }
 ],
 "metadata": {
  "kernelspec": {
   "display_name": "Python 3 (ipykernel)",
   "language": "python",
   "name": "python3"
  },
  "language_info": {
   "codemirror_mode": {
    "name": "ipython",
    "version": 3
   },
   "file_extension": ".py",
   "mimetype": "text/x-python",
   "name": "python",
   "nbconvert_exporter": "python",
   "pygments_lexer": "ipython3",
   "version": "3.9.7"
  }
 },
 "nbformat": 4,
 "nbformat_minor": 5
}
