{
 "cells": [
  {
   "cell_type": "code",
   "execution_count": 1,
   "id": "f6bcc206",
   "metadata": {},
   "outputs": [],
   "source": [
    "import datetime as dt\n",
    "import time as tm"
   ]
  },
  {
   "cell_type": "code",
   "execution_count": 2,
   "id": "765677a5",
   "metadata": {},
   "outputs": [
    {
     "data": {
      "text/plain": [
       "1643408465.666419"
      ]
     },
     "execution_count": 2,
     "metadata": {},
     "output_type": "execute_result"
    }
   ],
   "source": [
    "tm.time()"
   ]
  },
  {
   "cell_type": "code",
   "execution_count": 5,
   "id": "bdc9263a",
   "metadata": {},
   "outputs": [
    {
     "data": {
      "text/plain": [
       "datetime.datetime(2022, 1, 29, 9, 23, 52, 816433)"
      ]
     },
     "execution_count": 5,
     "metadata": {},
     "output_type": "execute_result"
    }
   ],
   "source": [
    "#I have no idea what the above one shows\n",
    "#okay looks like that gives the current date and time in a form no one cares\n",
    "#so lets convert that to year,month,day,hour,minutes,second,milliseconds?\n",
    "\n",
    "dateTimeNow = dt.datetime.fromtimestamp(tm.time())\n",
    "dateTimeNow"
   ]
  },
  {
   "cell_type": "code",
   "execution_count": 7,
   "id": "be2ab494",
   "metadata": {},
   "outputs": [
    {
     "data": {
      "text/plain": [
       "(2022, 1, 29)"
      ]
     },
     "execution_count": 7,
     "metadata": {},
     "output_type": "execute_result"
    }
   ],
   "source": [
    "dateTimeNow.year,dateTimeNow.month,dateTimeNow.day"
   ]
  },
  {
   "cell_type": "code",
   "execution_count": 8,
   "id": "dc556f4f",
   "metadata": {},
   "outputs": [
    {
     "data": {
      "text/plain": [
       "(9, 23, 52)"
      ]
     },
     "execution_count": 8,
     "metadata": {},
     "output_type": "execute_result"
    }
   ],
   "source": [
    "dateTimeNow.hour,dateTimeNow.minute,dateTimeNow.second"
   ]
  },
  {
   "cell_type": "code",
   "execution_count": 9,
   "id": "739ee53a",
   "metadata": {},
   "outputs": [
    {
     "data": {
      "text/plain": [
       "datetime.timedelta(days=100)"
      ]
     },
     "execution_count": 9,
     "metadata": {},
     "output_type": "execute_result"
    }
   ],
   "source": [
    "#what is this? a time object with 100 days\n",
    "delta = dt.timedelta(days = 100)\n",
    "delta"
   ]
  },
  {
   "cell_type": "code",
   "execution_count": 10,
   "id": "de273bd0",
   "metadata": {},
   "outputs": [],
   "source": [
    "today = dt.date.today()"
   ]
  },
  {
   "cell_type": "code",
   "execution_count": 11,
   "id": "009c1e09",
   "metadata": {},
   "outputs": [
    {
     "data": {
      "text/plain": [
       "datetime.date(2022, 1, 29)"
      ]
     },
     "execution_count": 11,
     "metadata": {},
     "output_type": "execute_result"
    }
   ],
   "source": [
    "today"
   ]
  },
  {
   "cell_type": "code",
   "execution_count": 12,
   "id": "cdaa8f97",
   "metadata": {},
   "outputs": [
    {
     "data": {
      "text/plain": [
       "datetime.date(2021, 10, 21)"
      ]
     },
     "execution_count": 12,
     "metadata": {},
     "output_type": "execute_result"
    }
   ],
   "source": [
    "today-delta"
   ]
  },
  {
   "cell_type": "code",
   "execution_count": null,
   "id": "6a8042ec",
   "metadata": {},
   "outputs": [],
   "source": []
  }
 ],
 "metadata": {
  "kernelspec": {
   "display_name": "Python 3 (ipykernel)",
   "language": "python",
   "name": "python3"
  },
  "language_info": {
   "codemirror_mode": {
    "name": "ipython",
    "version": 3
   },
   "file_extension": ".py",
   "mimetype": "text/x-python",
   "name": "python",
   "nbconvert_exporter": "python",
   "pygments_lexer": "ipython3",
   "version": "3.9.7"
  }
 },
 "nbformat": 4,
 "nbformat_minor": 5
}
