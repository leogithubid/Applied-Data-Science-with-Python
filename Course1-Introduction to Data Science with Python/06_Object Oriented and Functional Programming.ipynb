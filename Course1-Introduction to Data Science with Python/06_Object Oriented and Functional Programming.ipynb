{
 "cells": [
  {
   "cell_type": "markdown",
   "id": "77e4e59f",
   "metadata": {},
   "source": [
    "# Object Oriented"
   ]
  },
  {
   "cell_type": "code",
   "execution_count": 7,
   "id": "b55685fe",
   "metadata": {},
   "outputs": [],
   "source": [
    "class Person:\n",
    "    #attributes\n",
    "    department = 'Mechanical Engineering'\n",
    "    #methods\n",
    "    def set_name(self,new_name):\n",
    "        self.name = new_name\n",
    "    def set_location(self,new_location):\n",
    "        self.location = new_location\n",
    "    "
   ]
  },
  {
   "cell_type": "code",
   "execution_count": 8,
   "id": "44aa752c",
   "metadata": {},
   "outputs": [
    {
     "name": "stdout",
     "output_type": "stream",
     "text": [
      "Liyon Kerala Mechanical Engineering\n"
     ]
    }
   ],
   "source": [
    "demo = Person()\n",
    "demo.set_name('Liyon')\n",
    "demo.set_location('Kerala')\n",
    "print(demo.name,demo.location,demo.department)"
   ]
  },
  {
   "cell_type": "markdown",
   "id": "d884cf14",
   "metadata": {},
   "source": [
    "# Functional Programming"
   ]
  },
  {
   "cell_type": "code",
   "execution_count": 11,
   "id": "f58bba16",
   "metadata": {},
   "outputs": [
    {
     "data": {
      "text/plain": [
       "['Dr. Brooks', 'Dr. Collins-Thompson', 'Dr. Vydiswaran', 'Dr. Romero']"
      ]
     },
     "execution_count": 11,
     "metadata": {},
     "output_type": "execute_result"
    }
   ],
   "source": [
    "#this is just a list of tutors in the course\n",
    "people = ['Dr. Christopher Brooks', 'Dr. Kevyn Collins-Thompson', 'Dr. VG Vinod Vydiswaran', \n",
    "          'Dr. Daniel Romero']\n",
    "\n",
    "#this is a function that takes one argument\n",
    "#if we are able to pass one by one each element then it will return title and lastname\n",
    "#but how to do this? map\n",
    "def split_title_and_name(person):\n",
    "    title = person.split()[0]\n",
    "    lastname = person.split()[-1]\n",
    "    return '{} {}'.format(title, lastname)\n",
    "\n",
    "#map can iterate through the array\n",
    "map(split_title_and_name, people)\n",
    "\n",
    "#if I write only map it gives me a non readable answer\n",
    "#the answer in the course says wrap it with list\n",
    "\n",
    "list(map(split_title_and_name, people))"
   ]
  },
  {
   "cell_type": "code",
   "execution_count": 14,
   "id": "649f0857",
   "metadata": {},
   "outputs": [
    {
     "data": {
      "text/plain": [
       "[9, 20, 30, 24]"
      ]
     },
     "execution_count": 14,
     "metadata": {},
     "output_type": "execute_result"
    }
   ],
   "source": [
    "#cheaper items between the two stores\n",
    "store_1 = [10,20,30,40]\n",
    "store_2 = [9,21,32,24]\n",
    "\n",
    "cheapest = map(min,store_1,store_2)\n",
    "cheapest #this gives a non readable value as usual\n",
    "list(cheapest) #but look at this"
   ]
  },
  {
   "cell_type": "code",
   "execution_count": null,
   "id": "b45be418",
   "metadata": {},
   "outputs": [],
   "source": []
  }
 ],
 "metadata": {
  "kernelspec": {
   "display_name": "Python 3 (ipykernel)",
   "language": "python",
   "name": "python3"
  },
  "language_info": {
   "codemirror_mode": {
    "name": "ipython",
    "version": 3
   },
   "file_extension": ".py",
   "mimetype": "text/x-python",
   "name": "python",
   "nbconvert_exporter": "python",
   "pygments_lexer": "ipython3",
   "version": "3.9.7"
  }
 },
 "nbformat": 4,
 "nbformat_minor": 5
}
