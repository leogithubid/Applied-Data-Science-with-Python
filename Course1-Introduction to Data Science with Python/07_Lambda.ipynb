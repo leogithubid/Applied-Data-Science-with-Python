{
 "cells": [
  {
   "cell_type": "code",
   "execution_count": 146,
   "id": "6651831f",
   "metadata": {},
   "outputs": [
    {
     "name": "stdout",
     "output_type": "stream",
     "text": [
      "True\n",
      "True\n",
      "True\n",
      "True\n"
     ]
    },
    {
     "data": {
      "text/plain": [
       "True"
      ]
     },
     "execution_count": 146,
     "metadata": {},
     "output_type": "execute_result"
    }
   ],
   "source": [
    "people = ['Dr. Christopher Brooks', 'Dr. Kevyn Collins-Thompson', 'Dr. VG Vinod Vydiswaran', \n",
    "         'Dr. Daniel Romero']\n",
    "\n",
    "def split_title_and_name(person):\n",
    "    return person.split()[0] + ' ' + person.split()[-1]\n",
    "\n",
    "#option 1\n",
    "for person in people:\n",
    "    print(split_title_and_name(person) == (lambda x: x.split()[0] + ' ' + x.split()[-1])\n",
    "          (person))\n",
    "\n",
    "#option 2\n",
    "list(map(split_title_and_name, people)) == list(map(lambda person: person.split()[0] + ' ' + \n",
    "                                                    person.split()[-1], people))"
   ]
  },
  {
   "cell_type": "code",
   "execution_count": 147,
   "id": "14ba48a9",
   "metadata": {},
   "outputs": [],
   "source": [
    "dummy_function = lambda a,b,c:a+b\n"
   ]
  },
  {
   "cell_type": "code",
   "execution_count": 148,
   "id": "fecd61c7",
   "metadata": {},
   "outputs": [
    {
     "data": {
      "text/plain": [
       "3"
      ]
     },
     "execution_count": 148,
     "metadata": {},
     "output_type": "execute_result"
    }
   ],
   "source": [
    "dummy_function(1,2,3)"
   ]
  },
  {
   "cell_type": "code",
   "execution_count": 149,
   "id": "1964e665",
   "metadata": {},
   "outputs": [
    {
     "data": {
      "text/plain": [
       "32"
      ]
     },
     "execution_count": 149,
     "metadata": {},
     "output_type": "execute_result"
    }
   ],
   "source": [
    "dummy_function(10,22,37)"
   ]
  },
  {
   "cell_type": "markdown",
   "id": "cfe68cd4",
   "metadata": {},
   "source": [
    "let's pause this course for a moment - don't you think its going a bit too fast\n",
    "without any good examples? that example was so confusing, don't know why they created it\n",
    "A lambda function is a small anonymous function.\n",
    "A lambda function can take any number of arguments, but can only have one expression."
   ]
  },
  {
   "cell_type": "markdown",
   "id": "7414158a",
   "metadata": {},
   "source": [
    "# Lambda\n",
    "\n",
    "## variable_name = lambda_keyword argument_or_list_of_inputs : expression_or_return_result"
   ]
  },
  {
   "cell_type": "code",
   "execution_count": 150,
   "id": "7c2b3a01",
   "metadata": {},
   "outputs": [
    {
     "data": {
      "text/plain": [
       "30"
      ]
     },
     "execution_count": 150,
     "metadata": {},
     "output_type": "execute_result"
    }
   ],
   "source": [
    "#first let's define a normal function\n",
    "def multiply(a,b):\n",
    "    return a*b\n",
    "\n",
    "multiply(5,6)"
   ]
  },
  {
   "cell_type": "code",
   "execution_count": 151,
   "id": "8ee02cfd",
   "metadata": {},
   "outputs": [
    {
     "data": {
      "text/plain": [
       "30"
      ]
     },
     "execution_count": 151,
     "metadata": {},
     "output_type": "execute_result"
    }
   ],
   "source": [
    "#now let's use lambda\n",
    "multiply_using_lambda = lambda a,b : a*b\n",
    "\n",
    "multiply_using_lambda(5,6)"
   ]
  },
  {
   "cell_type": "code",
   "execution_count": 152,
   "id": "a09bf2ef",
   "metadata": {},
   "outputs": [
    {
     "data": {
      "text/plain": [
       "<function __main__.<lambda>(a, b)>"
      ]
     },
     "execution_count": 152,
     "metadata": {},
     "output_type": "execute_result"
    }
   ],
   "source": [
    "multiply_using_lambda"
   ]
  },
  {
   "cell_type": "code",
   "execution_count": 153,
   "id": "dff05a72",
   "metadata": {},
   "outputs": [
    {
     "data": {
      "text/plain": [
       "25"
      ]
     },
     "execution_count": 153,
     "metadata": {},
     "output_type": "execute_result"
    }
   ],
   "source": [
    "#define a lambda function that returns square of a value\n",
    "square = lambda a : a*a\n",
    "\n",
    "square(5)"
   ]
  },
  {
   "cell_type": "code",
   "execution_count": 154,
   "id": "ec58205e",
   "metadata": {},
   "outputs": [
    {
     "data": {
      "text/plain": [
       "['apple', 2, 3]"
      ]
     },
     "execution_count": 154,
     "metadata": {},
     "output_type": "execute_result"
    }
   ],
   "source": [
    "#get 3 values and return a list\n",
    "\n",
    "list_lambda = lambda a,b,c : [a,b,c]\n",
    "    \n",
    "list_lambda('apple',2,3)"
   ]
  },
  {
   "cell_type": "code",
   "execution_count": 155,
   "id": "63127616",
   "metadata": {},
   "outputs": [
    {
     "data": {
      "text/plain": [
       "'h'"
      ]
     },
     "execution_count": 155,
     "metadata": {},
     "output_type": "execute_result"
    }
   ],
   "source": [
    "#get a string and return the first character of a string\n",
    "\n",
    "return_first_character = lambda input_string : input_string[0]\n",
    "\n",
    "return_first_character('hello')"
   ]
  },
  {
   "cell_type": "code",
   "execution_count": 156,
   "id": "624cfd1d",
   "metadata": {},
   "outputs": [
    {
     "data": {
      "text/plain": [
       "12"
      ]
     },
     "execution_count": 156,
     "metadata": {},
     "output_type": "execute_result"
    }
   ],
   "source": [
    "#return length\n",
    "\n",
    "return_length = lambda input_string : len(input_string)\n",
    "\n",
    "return_length('Good Morning')"
   ]
  },
  {
   "cell_type": "markdown",
   "id": "47249a97",
   "metadata": {},
   "source": [
    "# lambda using lists"
   ]
  },
  {
   "cell_type": "code",
   "execution_count": 157,
   "id": "2dd1a319",
   "metadata": {},
   "outputs": [
    {
     "data": {
      "text/plain": [
       "[1, 4, 9, 16, 25]"
      ]
     },
     "execution_count": 157,
     "metadata": {},
     "output_type": "execute_result"
    }
   ],
   "source": [
    "#create a function to get a list and square the items in it \n",
    "\n",
    "number_list = [1,2,3,4,5]\n",
    "\n",
    "def square_list(input_list):\n",
    "    squared_list = []\n",
    "    for item in input_list:\n",
    "        square = item * item\n",
    "        squared_list.append(square)\n",
    "    return squared_list\n",
    "\n",
    "square_list(number_list)\n",
    "        "
   ]
  },
  {
   "cell_type": "code",
   "execution_count": 158,
   "id": "0822ee14",
   "metadata": {},
   "outputs": [
    {
     "data": {
      "text/plain": [
       "[1, 4, 9, 16, 25]"
      ]
     },
     "execution_count": 158,
     "metadata": {},
     "output_type": "execute_result"
    }
   ],
   "source": [
    "#use map\n",
    "#map syntax:\n",
    "#map(function,list)\n",
    "\n",
    "def square_numbers(item):\n",
    "    return item * item\n",
    "\n",
    "map(square_numbers,number_list)\n",
    "\n",
    "#convert map object to a list\n",
    "list(map(square_numbers,number_list))"
   ]
  },
  {
   "cell_type": "code",
   "execution_count": 159,
   "id": "235fa573",
   "metadata": {},
   "outputs": [
    {
     "data": {
      "text/plain": [
       "[1, 4, 9, 16, 25]"
      ]
     },
     "execution_count": 159,
     "metadata": {},
     "output_type": "execute_result"
    }
   ],
   "source": [
    "#use lambda\n",
    "\n",
    "square_lambda = lambda item : item * item\n",
    "\n",
    "list(map(square_lambda,number_list))"
   ]
  },
  {
   "cell_type": "code",
   "execution_count": 160,
   "id": "c616b352",
   "metadata": {},
   "outputs": [
    {
     "data": {
      "text/plain": [
       "[1, 4, 9, 16, 25]"
      ]
     },
     "execution_count": 160,
     "metadata": {},
     "output_type": "execute_result"
    }
   ],
   "source": [
    "#making it compact ie, get rid of the function and put lambda inside map\n",
    "\n",
    "list(map(lambda item : item * item , number_list))"
   ]
  },
  {
   "cell_type": "code",
   "execution_count": 161,
   "id": "68b7df37",
   "metadata": {},
   "outputs": [
    {
     "data": {
      "text/plain": [
       "['TEA', 'COFFEE', 'BISCUITS']"
      ]
     },
     "execution_count": 161,
     "metadata": {},
     "output_type": "execute_result"
    }
   ],
   "source": [
    "#convert a list of words to upper case\n",
    "breakfast_menu = ['tea','coffee','biscuits']\n",
    "\n",
    "list(map(lambda element : element.upper(), breakfast_menu))"
   ]
  },
  {
   "cell_type": "code",
   "execution_count": 162,
   "id": "3f168158",
   "metadata": {},
   "outputs": [
    {
     "data": {
      "text/plain": [
       "['i had breakfast', 'i am having lunch', 'i will have dinner']"
      ]
     },
     "execution_count": 162,
     "metadata": {},
     "output_type": "execute_result"
    }
   ],
   "source": [
    "#converst list of sentences to lower case\n",
    "sentences = ['I had breakfast','I am having lunch','I will have dinner']\n",
    "\n",
    "list(map(lambda sentence : sentence.lower(),sentences))"
   ]
  },
  {
   "cell_type": "markdown",
   "id": "855865ac",
   "metadata": {},
   "source": [
    "# Lambda with conditions"
   ]
  },
  {
   "cell_type": "code",
   "execution_count": 163,
   "id": "5c3babfb",
   "metadata": {},
   "outputs": [
    {
     "data": {
      "text/plain": [
       "True"
      ]
     },
     "execution_count": 163,
     "metadata": {},
     "output_type": "execute_result"
    }
   ],
   "source": [
    "#a function that returns true if value is even, false if odd\n",
    "def odd_even(number):\n",
    "    if (number%2==0):\n",
    "        return True\n",
    "    else:\n",
    "        return False\n",
    "    \n",
    "odd_even(4)"
   ]
  },
  {
   "cell_type": "code",
   "execution_count": 164,
   "id": "cfa591e3",
   "metadata": {},
   "outputs": [
    {
     "data": {
      "text/plain": [
       "False"
      ]
     },
     "execution_count": 164,
     "metadata": {},
     "output_type": "execute_result"
    }
   ],
   "source": [
    "odd_even(5)"
   ]
  },
  {
   "cell_type": "code",
   "execution_count": 165,
   "id": "39e856c6",
   "metadata": {},
   "outputs": [
    {
     "data": {
      "text/plain": [
       "True"
      ]
     },
     "execution_count": 165,
     "metadata": {},
     "output_type": "execute_result"
    }
   ],
   "source": [
    "#use lambda\n",
    "odd_even_lambda = lambda number : True if number%2 == 0 else False\n",
    "\n",
    "odd_even_lambda(6)"
   ]
  },
  {
   "cell_type": "code",
   "execution_count": 166,
   "id": "e28679b7",
   "metadata": {},
   "outputs": [
    {
     "data": {
      "text/plain": [
       "False"
      ]
     },
     "execution_count": 166,
     "metadata": {},
     "output_type": "execute_result"
    }
   ],
   "source": [
    "odd_even_lambda(7)"
   ]
  },
  {
   "cell_type": "code",
   "execution_count": 167,
   "id": "923d599d",
   "metadata": {},
   "outputs": [
    {
     "data": {
      "text/plain": [
       "[12, 34, 56, 78, 90]"
      ]
     },
     "execution_count": 167,
     "metadata": {},
     "output_type": "execute_result"
    }
   ],
   "source": [
    "#normal function - filter out even numbers from a list\n",
    "numbers = [12,23,34,45,56,67,78,89,90]\n",
    "\n",
    "def filter_even(numbers_list):\n",
    "    even_numbers = []\n",
    "    for number in numbers_list:\n",
    "        if(number%2==0):\n",
    "            even_numbers.append(number)\n",
    "    return even_numbers\n",
    "\n",
    "filter_even(numbers)"
   ]
  },
  {
   "cell_type": "code",
   "execution_count": 168,
   "id": "3f87a4fb",
   "metadata": {},
   "outputs": [],
   "source": [
    "#using filter function\n",
    "#syntax - filter(function_name,list of objects) -> returns the items for which function \n",
    "#returned true\n",
    "#filter can iterate through the list of objects like map\n",
    "#see the example using lambda for this\n",
    "\n",
    "#just recreate our old function\n",
    "def odd_even(number):\n",
    "    if (number%2==0):\n",
    "        return True\n",
    "    else:\n",
    "        return False"
   ]
  },
  {
   "cell_type": "code",
   "execution_count": 169,
   "id": "88c003de",
   "metadata": {},
   "outputs": [
    {
     "data": {
      "text/plain": [
       "<filter at 0x7f87ce05ab80>"
      ]
     },
     "execution_count": 169,
     "metadata": {},
     "output_type": "execute_result"
    }
   ],
   "source": [
    "filter(odd_even,numbers)"
   ]
  },
  {
   "cell_type": "code",
   "execution_count": 170,
   "id": "0889ff6d",
   "metadata": {},
   "outputs": [
    {
     "data": {
      "text/plain": [
       "[12, 34, 56, 78, 90]"
      ]
     },
     "execution_count": 170,
     "metadata": {},
     "output_type": "execute_result"
    }
   ],
   "source": [
    "#convert the filter object to list ie, cast it\n",
    "list(filter(odd_even,numbers))"
   ]
  },
  {
   "cell_type": "code",
   "execution_count": 171,
   "id": "0cc4cb84",
   "metadata": {},
   "outputs": [],
   "source": [
    "#how about using our old lambda\n",
    "#use lambda\n",
    "odd_even_lambda = lambda number : True if number%2 == 0 else False"
   ]
  },
  {
   "cell_type": "code",
   "execution_count": 172,
   "id": "ce8e5b1f",
   "metadata": {},
   "outputs": [
    {
     "data": {
      "text/plain": [
       "[12, 34, 56, 78, 90]"
      ]
     },
     "execution_count": 172,
     "metadata": {},
     "output_type": "execute_result"
    }
   ],
   "source": [
    "list(filter(odd_even_lambda,numbers))"
   ]
  },
  {
   "cell_type": "code",
   "execution_count": 173,
   "id": "e82bec44",
   "metadata": {},
   "outputs": [
    {
     "data": {
      "text/plain": [
       "[12, 34, 56, 78, 90]"
      ]
     },
     "execution_count": 173,
     "metadata": {},
     "output_type": "execute_result"
    }
   ],
   "source": [
    "list(filter(lambda number : True if number%2 == 0 else False,numbers))"
   ]
  },
  {
   "cell_type": "code",
   "execution_count": 174,
   "id": "98affe4d",
   "metadata": {},
   "outputs": [
    {
     "data": {
      "text/plain": [
       "['Shazin', 'Shiyon', 'Shilna']"
      ]
     },
     "execution_count": 174,
     "metadata": {},
     "output_type": "execute_result"
    }
   ],
   "source": [
    "#filter out the names starting with 'S'\n",
    "names = ['Vivaan','Aarav','Krishna','Shazin','Indhu','Shiyon','Liyon','Niyon','Shilna','Kiran']\n",
    "\n",
    "list(filter(lambda name : True if name[0]=='S' else False,names))"
   ]
  },
  {
   "cell_type": "code",
   "execution_count": 175,
   "id": "97591c15",
   "metadata": {},
   "outputs": [
    {
     "data": {
      "text/plain": [
       "['Kiran']"
      ]
     },
     "execution_count": 175,
     "metadata": {},
     "output_type": "execute_result"
    }
   ],
   "source": [
    "#names starting with K but with length 5\n",
    "\n",
    "\n",
    "list(filter(lambda name : True if (name[0]=='K') and (len(name)==5) else False,names))"
   ]
  },
  {
   "cell_type": "code",
   "execution_count": 176,
   "id": "441be48d",
   "metadata": {},
   "outputs": [
    {
     "data": {
      "text/plain": [
       "[1200, 230, 3400, 450, 5600, 670, 7800, 890, 9000]"
      ]
     },
     "execution_count": 176,
     "metadata": {},
     "output_type": "execute_result"
    }
   ],
   "source": [
    "#mulitply odd by 10 and even by 100\n",
    "list(map(lambda number: number*100 if number%2==0 else number*10,numbers))"
   ]
  },
  {
   "cell_type": "markdown",
   "id": "7d691498",
   "metadata": {},
   "source": [
    "# Lambda and sorting"
   ]
  },
  {
   "cell_type": "code",
   "execution_count": 177,
   "id": "a8083e32",
   "metadata": {},
   "outputs": [
    {
     "data": {
      "text/plain": [
       "[('Apple', 10), ('Banana', 5), ('Carrot', 2), ('Dry Fruits', 20), ('Egg', 12)]"
      ]
     },
     "execution_count": 177,
     "metadata": {},
     "output_type": "execute_result"
    }
   ],
   "source": [
    "#a list of objects that contains products as tuples\n",
    "products = [('Carrot',2),('Apple',10),('Egg',12),('Banana',5),('Dry Fruits',20)]\n",
    "\n",
    "#sort it alphabetically\n",
    "products.sort()\n",
    "products"
   ]
  },
  {
   "cell_type": "code",
   "execution_count": 178,
   "id": "6568139d",
   "metadata": {},
   "outputs": [
    {
     "data": {
      "text/plain": [
       "[('Carrot', 2), ('Banana', 5), ('Apple', 10), ('Egg', 12), ('Dry Fruits', 20)]"
      ]
     },
     "execution_count": 178,
     "metadata": {},
     "output_type": "execute_result"
    }
   ],
   "source": [
    "#using lambda - sort by price\n",
    "products.sort(key = lambda item : item[1])\n",
    "\n",
    "products"
   ]
  },
  {
   "cell_type": "code",
   "execution_count": 179,
   "id": "36c58b21",
   "metadata": {},
   "outputs": [
    {
     "data": {
      "text/plain": [
       "[{'name': 'Charles', 'Age': 34, 'Income': 30000},\n",
       " {'name': 'Alex', 'Age': 25, 'Income': 50000},\n",
       " {'name': 'Emily', 'Age': 45, 'Income': 10000},\n",
       " {'name': 'Ben', 'Age': 23, 'Income': 40000},\n",
       " {'name': 'Dick', 'Age': 33, 'Income': 20000}]"
      ]
     },
     "execution_count": 179,
     "metadata": {},
     "output_type": "execute_result"
    }
   ],
   "source": [
    "# a list of dictionaries\n",
    "employees = [\n",
    "                {\"name\":\"Charles\",\"Age\": 34,\"Income\":30000},\n",
    "                {\"name\":\"Alex\",\"Age\":25 ,\"Income\":50000},\n",
    "                {\"name\":\"Emily\",\"Age\": 45,\"Income\":10000},\n",
    "                {\"name\":\"Ben\",\"Age\": 23,\"Income\":40000},\n",
    "                {\"name\":\"Dick\",\"Age\":33 ,\"Income\":20000},\n",
    "            ]\n",
    "employees"
   ]
  },
  {
   "cell_type": "code",
   "execution_count": 180,
   "id": "e3f8367a",
   "metadata": {},
   "outputs": [
    {
     "data": {
      "text/plain": [
       "[{'name': 'Alex', 'Age': 25, 'Income': 50000},\n",
       " {'name': 'Ben', 'Age': 23, 'Income': 40000},\n",
       " {'name': 'Charles', 'Age': 34, 'Income': 30000},\n",
       " {'name': 'Dick', 'Age': 33, 'Income': 20000},\n",
       " {'name': 'Emily', 'Age': 45, 'Income': 10000}]"
      ]
     },
     "execution_count": 180,
     "metadata": {},
     "output_type": "execute_result"
    }
   ],
   "source": [
    "#sort by name\n",
    "#employees.sort()-gives error\n",
    "\n",
    "employees.sort(key = lambda person : person[\"name\"])\n",
    "employees"
   ]
  },
  {
   "cell_type": "code",
   "execution_count": 181,
   "id": "4ee11c19",
   "metadata": {},
   "outputs": [
    {
     "data": {
      "text/plain": [
       "[{'name': 'Emily', 'Age': 45, 'Income': 10000},\n",
       " {'name': 'Dick', 'Age': 33, 'Income': 20000},\n",
       " {'name': 'Charles', 'Age': 34, 'Income': 30000},\n",
       " {'name': 'Ben', 'Age': 23, 'Income': 40000},\n",
       " {'name': 'Alex', 'Age': 25, 'Income': 50000}]"
      ]
     },
     "execution_count": 181,
     "metadata": {},
     "output_type": "execute_result"
    }
   ],
   "source": [
    "#based on income\n",
    "employees.sort(key = lambda person : person[\"Income\"])\n",
    "employees"
   ]
  },
  {
   "cell_type": "markdown",
   "id": "d06e4b38",
   "metadata": {},
   "source": [
    "# Data Manipulation"
   ]
  },
  {
   "cell_type": "code",
   "execution_count": 182,
   "id": "15a908c3",
   "metadata": {},
   "outputs": [],
   "source": [
    "import pandas as pd"
   ]
  },
  {
   "cell_type": "code",
   "execution_count": 183,
   "id": "af56efbc",
   "metadata": {},
   "outputs": [],
   "source": [
    "dataframe = pd.DataFrame({\n",
    "    'Name':['Alex','Ben','Charles','Dick','Emily'],\n",
    "    'Hourly Wage':[30,10,40,20,50],\n",
    "    'Contract Type':['Full Time','Part Time','Full Time','Full Time','Part Time']\n",
    "})"
   ]
  },
  {
   "cell_type": "code",
   "execution_count": 184,
   "id": "344764ad",
   "metadata": {},
   "outputs": [
    {
     "data": {
      "text/html": [
       "<div>\n",
       "<style scoped>\n",
       "    .dataframe tbody tr th:only-of-type {\n",
       "        vertical-align: middle;\n",
       "    }\n",
       "\n",
       "    .dataframe tbody tr th {\n",
       "        vertical-align: top;\n",
       "    }\n",
       "\n",
       "    .dataframe thead th {\n",
       "        text-align: right;\n",
       "    }\n",
       "</style>\n",
       "<table border=\"1\" class=\"dataframe\">\n",
       "  <thead>\n",
       "    <tr style=\"text-align: right;\">\n",
       "      <th></th>\n",
       "      <th>Name</th>\n",
       "      <th>Hourly Wage</th>\n",
       "      <th>Contract Type</th>\n",
       "    </tr>\n",
       "  </thead>\n",
       "  <tbody>\n",
       "    <tr>\n",
       "      <th>0</th>\n",
       "      <td>Alex</td>\n",
       "      <td>30</td>\n",
       "      <td>Full Time</td>\n",
       "    </tr>\n",
       "    <tr>\n",
       "      <th>1</th>\n",
       "      <td>Ben</td>\n",
       "      <td>10</td>\n",
       "      <td>Part Time</td>\n",
       "    </tr>\n",
       "    <tr>\n",
       "      <th>2</th>\n",
       "      <td>Charles</td>\n",
       "      <td>40</td>\n",
       "      <td>Full Time</td>\n",
       "    </tr>\n",
       "    <tr>\n",
       "      <th>3</th>\n",
       "      <td>Dick</td>\n",
       "      <td>20</td>\n",
       "      <td>Full Time</td>\n",
       "    </tr>\n",
       "    <tr>\n",
       "      <th>4</th>\n",
       "      <td>Emily</td>\n",
       "      <td>50</td>\n",
       "      <td>Part Time</td>\n",
       "    </tr>\n",
       "  </tbody>\n",
       "</table>\n",
       "</div>"
      ],
      "text/plain": [
       "      Name  Hourly Wage Contract Type\n",
       "0     Alex           30     Full Time\n",
       "1      Ben           10     Part Time\n",
       "2  Charles           40     Full Time\n",
       "3     Dick           20     Full Time\n",
       "4    Emily           50     Part Time"
      ]
     },
     "execution_count": 184,
     "metadata": {},
     "output_type": "execute_result"
    }
   ],
   "source": [
    "dataframe"
   ]
  },
  {
   "cell_type": "code",
   "execution_count": 185,
   "id": "4a4f4d54",
   "metadata": {},
   "outputs": [
    {
     "data": {
      "text/plain": [
       "0    Full Time\n",
       "1    Part Time\n",
       "2    Full Time\n",
       "3    Full Time\n",
       "4    Part Time\n",
       "Name: Contract Type, dtype: object"
      ]
     },
     "execution_count": 185,
     "metadata": {},
     "output_type": "execute_result"
    }
   ],
   "source": [
    "#create a colum daily working hours based on the assumption that\n",
    "#full time = 40 hours, part time = 20 hours per week\n",
    "#using lambda\n",
    "\n",
    "dataframe[\"Contract Type\"]"
   ]
  },
  {
   "cell_type": "code",
   "execution_count": 186,
   "id": "720d1869",
   "metadata": {},
   "outputs": [
    {
     "data": {
      "text/plain": [
       "0    8\n",
       "1    4\n",
       "2    8\n",
       "3    8\n",
       "4    4\n",
       "Name: Contract Type, dtype: int64"
      ]
     },
     "execution_count": 186,
     "metadata": {},
     "output_type": "execute_result"
    }
   ],
   "source": [
    "#using apply function with lambda\n",
    "dataframe[\"Contract Type\"].apply(lambda type : 4 if type ==\"Part Time\" else 8)"
   ]
  },
  {
   "cell_type": "code",
   "execution_count": 187,
   "id": "ba5ff212",
   "metadata": {},
   "outputs": [
    {
     "data": {
      "text/html": [
       "<div>\n",
       "<style scoped>\n",
       "    .dataframe tbody tr th:only-of-type {\n",
       "        vertical-align: middle;\n",
       "    }\n",
       "\n",
       "    .dataframe tbody tr th {\n",
       "        vertical-align: top;\n",
       "    }\n",
       "\n",
       "    .dataframe thead th {\n",
       "        text-align: right;\n",
       "    }\n",
       "</style>\n",
       "<table border=\"1\" class=\"dataframe\">\n",
       "  <thead>\n",
       "    <tr style=\"text-align: right;\">\n",
       "      <th></th>\n",
       "      <th>Name</th>\n",
       "      <th>Hourly Wage</th>\n",
       "      <th>Contract Type</th>\n",
       "      <th>Daily Working Hours</th>\n",
       "    </tr>\n",
       "  </thead>\n",
       "  <tbody>\n",
       "    <tr>\n",
       "      <th>0</th>\n",
       "      <td>Alex</td>\n",
       "      <td>30</td>\n",
       "      <td>Full Time</td>\n",
       "      <td>8</td>\n",
       "    </tr>\n",
       "    <tr>\n",
       "      <th>1</th>\n",
       "      <td>Ben</td>\n",
       "      <td>10</td>\n",
       "      <td>Part Time</td>\n",
       "      <td>4</td>\n",
       "    </tr>\n",
       "    <tr>\n",
       "      <th>2</th>\n",
       "      <td>Charles</td>\n",
       "      <td>40</td>\n",
       "      <td>Full Time</td>\n",
       "      <td>8</td>\n",
       "    </tr>\n",
       "    <tr>\n",
       "      <th>3</th>\n",
       "      <td>Dick</td>\n",
       "      <td>20</td>\n",
       "      <td>Full Time</td>\n",
       "      <td>8</td>\n",
       "    </tr>\n",
       "    <tr>\n",
       "      <th>4</th>\n",
       "      <td>Emily</td>\n",
       "      <td>50</td>\n",
       "      <td>Part Time</td>\n",
       "      <td>4</td>\n",
       "    </tr>\n",
       "  </tbody>\n",
       "</table>\n",
       "</div>"
      ],
      "text/plain": [
       "      Name  Hourly Wage Contract Type  Daily Working Hours\n",
       "0     Alex           30     Full Time                    8\n",
       "1      Ben           10     Part Time                    4\n",
       "2  Charles           40     Full Time                    8\n",
       "3     Dick           20     Full Time                    8\n",
       "4    Emily           50     Part Time                    4"
      ]
     },
     "execution_count": 187,
     "metadata": {},
     "output_type": "execute_result"
    }
   ],
   "source": [
    "#now add this as a column\n",
    "dataframe[\"Daily Working Hours\"] = dataframe[\"Contract Type\"].apply(\n",
    "    lambda type : 4 if type ==\"Part Time\" else 8)\n",
    "\n",
    "dataframe"
   ]
  },
  {
   "cell_type": "code",
   "execution_count": 188,
   "id": "7b607fa9",
   "metadata": {},
   "outputs": [],
   "source": [
    "#calculate annual income - this is just copying what we did above\n",
    "#dataframe[\"Annual Income\"] = dataframe[\"Hourly Wage\"].apply(lambda wage : float(wage) * 12 )\n",
    "#dataframe"
   ]
  },
  {
   "cell_type": "code",
   "execution_count": 193,
   "id": "15d5cbda",
   "metadata": {},
   "outputs": [
    {
     "data": {
      "text/html": [
       "<div>\n",
       "<style scoped>\n",
       "    .dataframe tbody tr th:only-of-type {\n",
       "        vertical-align: middle;\n",
       "    }\n",
       "\n",
       "    .dataframe tbody tr th {\n",
       "        vertical-align: top;\n",
       "    }\n",
       "\n",
       "    .dataframe thead th {\n",
       "        text-align: right;\n",
       "    }\n",
       "</style>\n",
       "<table border=\"1\" class=\"dataframe\">\n",
       "  <thead>\n",
       "    <tr style=\"text-align: right;\">\n",
       "      <th></th>\n",
       "      <th>Name</th>\n",
       "      <th>Hourly Wage</th>\n",
       "      <th>Contract Type</th>\n",
       "      <th>Daily Working Hours</th>\n",
       "      <th>Annual Income</th>\n",
       "    </tr>\n",
       "  </thead>\n",
       "  <tbody>\n",
       "    <tr>\n",
       "      <th>0</th>\n",
       "      <td>Alex</td>\n",
       "      <td>30</td>\n",
       "      <td>Full Time</td>\n",
       "      <td>8</td>\n",
       "      <td>87600</td>\n",
       "    </tr>\n",
       "    <tr>\n",
       "      <th>1</th>\n",
       "      <td>Ben</td>\n",
       "      <td>10</td>\n",
       "      <td>Part Time</td>\n",
       "      <td>4</td>\n",
       "      <td>14600</td>\n",
       "    </tr>\n",
       "    <tr>\n",
       "      <th>2</th>\n",
       "      <td>Charles</td>\n",
       "      <td>40</td>\n",
       "      <td>Full Time</td>\n",
       "      <td>8</td>\n",
       "      <td>116800</td>\n",
       "    </tr>\n",
       "    <tr>\n",
       "      <th>3</th>\n",
       "      <td>Dick</td>\n",
       "      <td>20</td>\n",
       "      <td>Full Time</td>\n",
       "      <td>8</td>\n",
       "      <td>58400</td>\n",
       "    </tr>\n",
       "    <tr>\n",
       "      <th>4</th>\n",
       "      <td>Emily</td>\n",
       "      <td>50</td>\n",
       "      <td>Part Time</td>\n",
       "      <td>4</td>\n",
       "      <td>73000</td>\n",
       "    </tr>\n",
       "  </tbody>\n",
       "</table>\n",
       "</div>"
      ],
      "text/plain": [
       "      Name  Hourly Wage Contract Type  Daily Working Hours  Annual Income\n",
       "0     Alex           30     Full Time                    8          87600\n",
       "1      Ben           10     Part Time                    4          14600\n",
       "2  Charles           40     Full Time                    8         116800\n",
       "3     Dick           20     Full Time                    8          58400\n",
       "4    Emily           50     Part Time                    4          73000"
      ]
     },
     "execution_count": 193,
     "metadata": {},
     "output_type": "execute_result"
    }
   ],
   "source": [
    "#using row of apply property\n",
    "dataframe[\"Annual Income\"] = dataframe.apply(\n",
    "    lambda row : row[\"Daily Working Hours\"] * row[\"Hourly Wage\"] * 365, axis = 1)\n",
    "dataframe"
   ]
  },
  {
   "cell_type": "code",
   "execution_count": 199,
   "id": "2c61e478",
   "metadata": {},
   "outputs": [
    {
     "data": {
      "text/html": [
       "<div>\n",
       "<style scoped>\n",
       "    .dataframe tbody tr th:only-of-type {\n",
       "        vertical-align: middle;\n",
       "    }\n",
       "\n",
       "    .dataframe tbody tr th {\n",
       "        vertical-align: top;\n",
       "    }\n",
       "\n",
       "    .dataframe thead th {\n",
       "        text-align: right;\n",
       "    }\n",
       "</style>\n",
       "<table border=\"1\" class=\"dataframe\">\n",
       "  <thead>\n",
       "    <tr style=\"text-align: right;\">\n",
       "      <th></th>\n",
       "      <th>Name</th>\n",
       "      <th>Hourly Wage</th>\n",
       "      <th>Contract Type</th>\n",
       "      <th>Daily Working Hours</th>\n",
       "      <th>Annual Income</th>\n",
       "      <th>Annual Tax</th>\n",
       "    </tr>\n",
       "  </thead>\n",
       "  <tbody>\n",
       "    <tr>\n",
       "      <th>0</th>\n",
       "      <td>Alex</td>\n",
       "      <td>30</td>\n",
       "      <td>Full Time</td>\n",
       "      <td>8</td>\n",
       "      <td>87600</td>\n",
       "      <td>876.0</td>\n",
       "    </tr>\n",
       "    <tr>\n",
       "      <th>1</th>\n",
       "      <td>Ben</td>\n",
       "      <td>10</td>\n",
       "      <td>Part Time</td>\n",
       "      <td>4</td>\n",
       "      <td>14600</td>\n",
       "      <td>0.0</td>\n",
       "    </tr>\n",
       "    <tr>\n",
       "      <th>2</th>\n",
       "      <td>Charles</td>\n",
       "      <td>40</td>\n",
       "      <td>Full Time</td>\n",
       "      <td>8</td>\n",
       "      <td>116800</td>\n",
       "      <td>1168.0</td>\n",
       "    </tr>\n",
       "    <tr>\n",
       "      <th>3</th>\n",
       "      <td>Dick</td>\n",
       "      <td>20</td>\n",
       "      <td>Full Time</td>\n",
       "      <td>8</td>\n",
       "      <td>58400</td>\n",
       "      <td>0.0</td>\n",
       "    </tr>\n",
       "    <tr>\n",
       "      <th>4</th>\n",
       "      <td>Emily</td>\n",
       "      <td>50</td>\n",
       "      <td>Part Time</td>\n",
       "      <td>4</td>\n",
       "      <td>73000</td>\n",
       "      <td>0.0</td>\n",
       "    </tr>\n",
       "  </tbody>\n",
       "</table>\n",
       "</div>"
      ],
      "text/plain": [
       "      Name  Hourly Wage Contract Type  Daily Working Hours  Annual Income  \\\n",
       "0     Alex           30     Full Time                    8          87600   \n",
       "1      Ben           10     Part Time                    4          14600   \n",
       "2  Charles           40     Full Time                    8         116800   \n",
       "3     Dick           20     Full Time                    8          58400   \n",
       "4    Emily           50     Part Time                    4          73000   \n",
       "\n",
       "   Annual Tax  \n",
       "0       876.0  \n",
       "1         0.0  \n",
       "2      1168.0  \n",
       "3         0.0  \n",
       "4         0.0  "
      ]
     },
     "execution_count": 199,
     "metadata": {},
     "output_type": "execute_result"
    }
   ],
   "source": [
    "#axis = 0 means apply this along colum\n",
    "#axis = 1 means apply this along rows\n",
    "\n",
    "#exercise - calculate tax\n",
    "#if agove 75000 tax is 10%\n",
    "#below that is 0%\n",
    "\n",
    "dataframe[\"Annual Tax\"] = dataframe.apply(\n",
    "    lambda row : row[\"Annual Income\"]*0.01 if row[\"Annual Income\"] > 75000 else 0, axis = 1)\n",
    "dataframe"
   ]
  },
  {
   "cell_type": "code",
   "execution_count": null,
   "id": "a5edf22a",
   "metadata": {},
   "outputs": [],
   "source": []
  }
 ],
 "metadata": {
  "kernelspec": {
   "display_name": "Python 3 (ipykernel)",
   "language": "python",
   "name": "python3"
  },
  "language_info": {
   "codemirror_mode": {
    "name": "ipython",
    "version": 3
   },
   "file_extension": ".py",
   "mimetype": "text/x-python",
   "name": "python",
   "nbconvert_exporter": "python",
   "pygments_lexer": "ipython3",
   "version": "3.9.7"
  }
 },
 "nbformat": 4,
 "nbformat_minor": 5
}
